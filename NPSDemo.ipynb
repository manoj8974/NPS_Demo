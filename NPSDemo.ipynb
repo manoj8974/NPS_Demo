{
 "cells": [
  {
   "cell_type": "markdown",
   "metadata": {},
   "source": [
    "### NPS Demo"
   ]
  },
  {
   "cell_type": "code",
   "execution_count": 1,
   "metadata": {},
   "outputs": [],
   "source": [
    "import pandas as pd\n",
    "import gradio as gr"
   ]
  },
  {
   "cell_type": "code",
   "execution_count": 4,
   "metadata": {},
   "outputs": [],
   "source": [
    "# Function to count characters in each cell of the \"Data\" column in an Excel file\n",
    "def process_excel(file_path):\n",
    "    df = pd.read_excel(file_path)\n",
    "    if \"Data\" in df.columns:\n",
    "        df['Characters Count'] = df['Data'].apply(lambda cell: len(str(cell)))\n",
    "    else:\n",
    "        raise ValueError(\"The provided Excel file does not contain a 'Data' column.\")\n",
    "    output_file_path = \"modified_excel.xlsx\"\n",
    "    df.to_excel(output_file_path, index=False)\n",
    "    return output_file_path\n",
    "\n",
    "# Function for counting characters in the input text\n",
    "def count_characters(text):\n",
    "    return len(text)"
   ]
  },
  {
   "cell_type": "code",
   "execution_count": 5,
   "metadata": {},
   "outputs": [],
   "source": [
    "# Gradio interface for processing Excel files\n",
    "def gradio_interface_excel(file_info):\n",
    "    file_path = file_info['path']\n",
    "    try:\n",
    "        modified_file_path = process_excel(file_path)\n",
    "        return modified_file_path, \"\"  # Return the path and an empty error message\n",
    "    except ValueError as e:\n",
    "        return None, str(e)  # Return None and the error message\n",
    "\n",
    "# Gradio interface for text input\n",
    "def gradio_interface_text(text):\n",
    "    character_count = count_characters(text)\n",
    "    return f\"Character count: {character_count}\"\n",
    "\n"
   ]
  },
  {
   "cell_type": "code",
   "execution_count": 6,
   "metadata": {},
   "outputs": [],
   "source": [
    "# Define Gradio interfaces using the updated syntax for Gradio version 4.17\n",
    "bulk_upload_interface = gr.Interface(fn=gradio_interface_excel,\n",
    "                                     inputs=gr.File(label=\"Upload Excel File\"),\n",
    "                                     outputs=[gr.File(label=\"Download Modified Excel File\"), gr.Textbox(label=\"Error Message\")],\n",
    "                                     title=\"Bulk Upload\",\n",
    "                                     description=\"Upload an Excel file for bulk processing. Counts characters in each cell of the 'Data' column.\")\n",
    "\n",
    "evaluate_single_feedback_interface = gr.Interface(fn=gradio_interface_text,\n",
    "                                                  inputs=gr.Textbox(lines=2, label=\"Input Feedback\"),\n",
    "                                                  outputs=gr.Textbox(label=\"Result\"),\n",
    "                                                  title=\"Evaluate Single Feedback\",\n",
    "                                                  description=\"Enter feedback to evaluate character count.\")\n"
   ]
  },
  {
   "cell_type": "code",
   "execution_count": 11,
   "metadata": {},
   "outputs": [
    {
     "ename": "AttributeError",
     "evalue": "'Dependency' object has no attribute 'launch'",
     "output_type": "error",
     "traceback": [
      "\u001b[1;31m---------------------------------------------------------------------------\u001b[0m",
      "\u001b[1;31mAttributeError\u001b[0m                            Traceback (most recent call last)",
      "Cell \u001b[1;32mIn[11], line 5\u001b[0m\n\u001b[0;32m      2\u001b[0m app \u001b[38;5;241m=\u001b[39m gr\u001b[38;5;241m.\u001b[39mTab\u001b[38;5;241m.\u001b[39mselect([bulk_upload_interface, evaluate_single_feedback_interface])\n\u001b[0;32m      4\u001b[0m \u001b[38;5;66;03m# Launch the app\u001b[39;00m\n\u001b[1;32m----> 5\u001b[0m \u001b[43mapp\u001b[49m\u001b[38;5;241;43m.\u001b[39;49m\u001b[43mlaunch\u001b[49m()\n",
      "\u001b[1;31mAttributeError\u001b[0m: 'Dependency' object has no attribute 'launch'"
     ]
    }
   ],
   "source": [
    "# Assuming Tabs can be used as follows in Gradio version 4.17 (or use the correct method for creating tabs)\n",
    "app = gr.Tab([bulk_upload_interface, evaluate_single_feedback_interface])\n",
    "\n",
    "# Launch the app\n",
    "app.launch()"
   ]
  },
  {
   "cell_type": "code",
   "execution_count": 13,
   "metadata": {},
   "outputs": [
    {
     "ename": "AttributeError",
     "evalue": "'Tabs' object has no attribute 'launch'",
     "output_type": "error",
     "traceback": [
      "\u001b[1;31m---------------------------------------------------------------------------\u001b[0m",
      "\u001b[1;31mAttributeError\u001b[0m                            Traceback (most recent call last)",
      "Cell \u001b[1;32mIn[13], line 6\u001b[0m\n\u001b[0;32m      3\u001b[0m app \u001b[38;5;241m=\u001b[39m gr\u001b[38;5;241m.\u001b[39mTabs({\u001b[38;5;124m\"\u001b[39m\u001b[38;5;124mBulk Upload\u001b[39m\u001b[38;5;124m\"\u001b[39m: bulk_upload_interface, \u001b[38;5;124m\"\u001b[39m\u001b[38;5;124mEvaluate Single Feedback\u001b[39m\u001b[38;5;124m\"\u001b[39m: evaluate_single_feedback_interface})\n\u001b[0;32m      5\u001b[0m \u001b[38;5;66;03m# Launch the app\u001b[39;00m\n\u001b[1;32m----> 6\u001b[0m \u001b[43mapp\u001b[49m\u001b[38;5;241;43m.\u001b[39;49m\u001b[43mlaunch\u001b[49m()\n",
      "\u001b[1;31mAttributeError\u001b[0m: 'Tabs' object has no attribute 'launch'"
     ]
    }
   ],
   "source": [
    "# Correct way to combine interfaces using Tabs for a more organized UI\n",
    "# For Gradio version 3.0 and later, use gr.Tab instead of gr.Tabs if you encounter issues\n",
    "app = gr.Tabs({\"Bulk Upload\": bulk_upload_interface, \"Evaluate Single Feedback\": evaluate_single_feedback_interface})\n",
    "\n",
    "# Launch the app\n",
    "app.launch()"
   ]
  },
  {
   "cell_type": "code",
   "execution_count": 12,
   "metadata": {},
   "outputs": [
    {
     "ename": "FileNotFoundError",
     "evalue": "[Errno 2] No such file or directory: 'c:\\\\Users\\\\kumar\\\\OneDrive\\\\Desktop\\\\Programs\\\\VirtualENV\\\\lib\\\\site-packages\\\\gradio\\\\version.txt'",
     "output_type": "error",
     "traceback": [
      "\u001b[1;31m---------------------------------------------------------------------------\u001b[0m",
      "\u001b[1;31mFileNotFoundError\u001b[0m                         Traceback (most recent call last)",
      "Cell \u001b[1;32mIn[12], line 4\u001b[0m\n\u001b[0;32m      1\u001b[0m \u001b[38;5;66;03m# Assuming bulk_upload_interface and evaluate_single_feedback_interface are already defined as per previous examples\u001b[39;00m\n\u001b[0;32m      2\u001b[0m \n\u001b[0;32m      3\u001b[0m \u001b[38;5;66;03m# Create a tabbed interface using blocks or a similar mechanism provided by your Gradio version\u001b[39;00m\n\u001b[1;32m----> 4\u001b[0m \u001b[38;5;28;01mwith\u001b[39;00m \u001b[43mgr\u001b[49m\u001b[38;5;241;43m.\u001b[39;49m\u001b[43mBlocks\u001b[49m\u001b[43m(\u001b[49m\u001b[43m)\u001b[49m \u001b[38;5;28;01mas\u001b[39;00m app:\n\u001b[0;32m      5\u001b[0m     \u001b[38;5;28;01mwith\u001b[39;00m gr\u001b[38;5;241m.\u001b[39mTab(\u001b[38;5;124m\"\u001b[39m\u001b[38;5;124mBulk Upload\u001b[39m\u001b[38;5;124m\"\u001b[39m):\n\u001b[0;32m      6\u001b[0m         gr\u001b[38;5;241m.\u001b[39mInterface(fn\u001b[38;5;241m=\u001b[39mgradio_interface_excel,\n\u001b[0;32m      7\u001b[0m                      inputs\u001b[38;5;241m=\u001b[39mgr\u001b[38;5;241m.\u001b[39minputs\u001b[38;5;241m.\u001b[39mFile(label\u001b[38;5;241m=\u001b[39m\u001b[38;5;124m\"\u001b[39m\u001b[38;5;124mUpload Excel File\u001b[39m\u001b[38;5;124m\"\u001b[39m),\n\u001b[0;32m      8\u001b[0m                      outputs\u001b[38;5;241m=\u001b[39m[gr\u001b[38;5;241m.\u001b[39moutputs\u001b[38;5;241m.\u001b[39mFile(label\u001b[38;5;241m=\u001b[39m\u001b[38;5;124m\"\u001b[39m\u001b[38;5;124mDownload Modified Excel File\u001b[39m\u001b[38;5;124m\"\u001b[39m), gr\u001b[38;5;241m.\u001b[39moutputs\u001b[38;5;241m.\u001b[39mTextbox(label\u001b[38;5;241m=\u001b[39m\u001b[38;5;124m\"\u001b[39m\u001b[38;5;124mError Message\u001b[39m\u001b[38;5;124m\"\u001b[39m)],\n\u001b[0;32m      9\u001b[0m                      title\u001b[38;5;241m=\u001b[39m\u001b[38;5;124m\"\u001b[39m\u001b[38;5;124mBulk Upload\u001b[39m\u001b[38;5;124m\"\u001b[39m,\n\u001b[0;32m     10\u001b[0m                      description\u001b[38;5;241m=\u001b[39m\u001b[38;5;124m\"\u001b[39m\u001b[38;5;124mUpload an Excel file for bulk processing. Counts characters in each cell of the \u001b[39m\u001b[38;5;124m'\u001b[39m\u001b[38;5;124mData\u001b[39m\u001b[38;5;124m'\u001b[39m\u001b[38;5;124m column.\u001b[39m\u001b[38;5;124m\"\u001b[39m)\n",
      "File \u001b[1;32mc:\\Users\\kumar\\OneDrive\\Desktop\\Programs\\VirtualENV\\lib\\site-packages\\gradio\\blocks.py:524\u001b[0m, in \u001b[0;36m__init__\u001b[1;34m(self, theme, analytics_enabled, mode, title, css, **kwargs)\u001b[0m\n\u001b[0;32m    522\u001b[0m     theme \u001b[38;5;241m=\u001b[39m DefaultTheme()\n\u001b[0;32m    523\u001b[0m \u001b[38;5;28;01melif\u001b[39;00m \u001b[38;5;28misinstance\u001b[39m(theme, \u001b[38;5;28mstr\u001b[39m):\n\u001b[1;32m--> 524\u001b[0m     \u001b[38;5;28;01mif\u001b[39;00m theme\u001b[38;5;241m.\u001b[39mlower() \u001b[38;5;129;01min\u001b[39;00m BUILT_IN_THEMES:\n\u001b[0;32m    525\u001b[0m         theme \u001b[38;5;241m=\u001b[39m BUILT_IN_THEMES[theme\u001b[38;5;241m.\u001b[39mlower()]\n\u001b[0;32m    526\u001b[0m     \u001b[38;5;28;01melse\u001b[39;00m:\n",
      "File \u001b[1;32m~\\AppData\\Local\\Programs\\Python\\Python39\\lib\\pkgutil.py:639\u001b[0m, in \u001b[0;36mget_data\u001b[1;34m(package, resource)\u001b[0m\n\u001b[0;32m    637\u001b[0m parts\u001b[38;5;241m.\u001b[39minsert(\u001b[38;5;241m0\u001b[39m, os\u001b[38;5;241m.\u001b[39mpath\u001b[38;5;241m.\u001b[39mdirname(mod\u001b[38;5;241m.\u001b[39m\u001b[38;5;18m__file__\u001b[39m))\n\u001b[0;32m    638\u001b[0m resource_name \u001b[38;5;241m=\u001b[39m os\u001b[38;5;241m.\u001b[39mpath\u001b[38;5;241m.\u001b[39mjoin(\u001b[38;5;241m*\u001b[39mparts)\n\u001b[1;32m--> 639\u001b[0m \u001b[38;5;28;01mreturn\u001b[39;00m \u001b[43mloader\u001b[49m\u001b[38;5;241;43m.\u001b[39;49m\u001b[43mget_data\u001b[49m\u001b[43m(\u001b[49m\u001b[43mresource_name\u001b[49m\u001b[43m)\u001b[49m\n",
      "File \u001b[1;32m<frozen importlib._bootstrap_external>:1039\u001b[0m, in \u001b[0;36mget_data\u001b[1;34m(self, path)\u001b[0m\n",
      "\u001b[1;31mFileNotFoundError\u001b[0m: [Errno 2] No such file or directory: 'c:\\\\Users\\\\kumar\\\\OneDrive\\\\Desktop\\\\Programs\\\\VirtualENV\\\\lib\\\\site-packages\\\\gradio\\\\version.txt'"
     ]
    }
   ],
   "source": [
    "\n",
    "# Assuming bulk_upload_interface and evaluate_single_feedback_interface are already defined as per previous examples\n",
    "\n",
    "# Create a tabbed interface using blocks or a similar mechanism provided by your Gradio version\n",
    "with gr.Blocks() as app:\n",
    "    with gr.Tab(\"Bulk Upload\"):\n",
    "        gr.Interface(fn=gradio_interface_excel,\n",
    "                     inputs=gr.inputs.File(label=\"Upload Excel File\"),\n",
    "                     outputs=[gr.outputs.File(label=\"Download Modified Excel File\"), gr.outputs.Textbox(label=\"Error Message\")],\n",
    "                     title=\"Bulk Upload\",\n",
    "                     description=\"Upload an Excel file for bulk processing. Counts characters in each cell of the 'Data' column.\")\n",
    "\n",
    "    with gr.Tab(\"Evaluate Single Feedback\"):\n",
    "        gr.Interface(fn=gradio_interface_text,\n",
    "                     inputs=gr.inputs.Textbox(lines=2, label=\"Input Feedback\"),\n",
    "                     outputs=gr.outputs.Textbox(label=\"Result\"),\n",
    "                     title=\"Evaluate Single Feedback\",\n",
    "                     description=\"Enter feedback to evaluate character count.\")\n",
    "\n"
   ]
  },
  {
   "cell_type": "code",
   "execution_count": null,
   "metadata": {},
   "outputs": [],
   "source": [
    "# Launch the app\n",
    "app.launch()\n"
   ]
  },
  {
   "cell_type": "markdown",
   "metadata": {},
   "source": [
    "#new"
   ]
  },
  {
   "cell_type": "markdown",
   "metadata": {},
   "source": []
  },
  {
   "cell_type": "code",
   "execution_count": 17,
   "metadata": {},
   "outputs": [],
   "source": [
    "# Function to count characters in each cell of the \"Data\" column in an Excel file\n",
    "def process_excel(file_path):\n",
    "    df = pd.read_excel(file_path)\n",
    "    if \"Data\" in df.columns:\n",
    "        df['Characters Count'] = df['Data'].apply(lambda cell: len(str(cell)))\n",
    "    else:\n",
    "        raise ValueError(\"The provided Excel file does not contain a 'Data' column.\")\n",
    "    output_file_path = r\"C:\\Users\\kumar\\OneDrive\\Desktop\\Programs\\officeP\\modified_excel.xlsx\"  # Adjust path as needed for your environment\n",
    "    df.to_excel(output_file_path, index=False)\n",
    "    return output_file_path\n",
    "\n",
    "# Function for counting characters in the input text\n",
    "def count_characters(text):\n",
    "    return len(text)"
   ]
  },
  {
   "cell_type": "code",
   "execution_count": 20,
   "metadata": {},
   "outputs": [],
   "source": [
    "def process_excel(file_path):\n",
    "    try:\n",
    "        df = pd.read_excel(file_path)\n",
    "        if \"Data\" in df.columns:\n",
    "            df['Characters Count'] = df['Data'].apply(lambda cell: len(str(cell)))\n",
    "        else:\n",
    "            # If the 'Data' column does not exist, return an error message\n",
    "            return None, \"The provided Excel file does not contain a 'Data' column.\"\n",
    "        output_file_path = \"modified_excel.xlsx\"  # Adjust path as needed for your environment\n",
    "        df.to_excel(output_file_path, index=False)\n",
    "        # Successfully processed the file, so return the file path and an empty error message\n",
    "        return output_file_path, \"\"\n",
    "    except Exception as e:\n",
    "        # In case of any other exception, return None and the error message\n",
    "        return None, str(e)"
   ]
  },
  {
   "cell_type": "code",
   "execution_count": 21,
   "metadata": {},
   "outputs": [],
   "source": [
    "# Gradio Blocks interface\n",
    "with gr.Blocks() as app:\n",
    "    with gr.Tab(\"Bulk Upload\"):\n",
    "        with gr.Group():\n",
    "            file_input = gr.File(label=\"Upload Excel File\")\n",
    "            output_file = gr.File(label=\"Download Modified Excel File\")\n",
    "            error_message = gr.Textbox(label=\"Error Message\")\n",
    "            file_input.change(process_excel, inputs=file_input, outputs=[output_file, error_message])\n",
    "\n",
    "    with gr.Tab(\"Evaluate Single Feedback\"):\n",
    "        with gr.Group():\n",
    "            text_input = gr.Textbox(lines=2, label=\"Input Feedback\")\n",
    "            character_count_output = gr.Textbox(label=\"Result\")\n",
    "            text_input.change(count_characters, inputs=text_input, outputs=character_count_output)\n",
    "\n"
   ]
  },
  {
   "cell_type": "code",
   "execution_count": 22,
   "metadata": {},
   "outputs": [
    {
     "name": "stdout",
     "output_type": "stream",
     "text": [
      "Running on local URL:  http://127.0.0.1:7862\n",
      "\n",
      "To create a public link, set `share=True` in `launch()`.\n"
     ]
    },
    {
     "data": {
      "text/html": [
       "<div><iframe src=\"http://127.0.0.1:7862/\" width=\"100%\" height=\"500\" allow=\"autoplay; camera; microphone; clipboard-read; clipboard-write;\" frameborder=\"0\" allowfullscreen></iframe></div>"
      ],
      "text/plain": [
       "<IPython.core.display.HTML object>"
      ]
     },
     "metadata": {},
     "output_type": "display_data"
    },
    {
     "data": {
      "text/plain": []
     },
     "execution_count": 22,
     "metadata": {},
     "output_type": "execute_result"
    }
   ],
   "source": [
    "# Launch the app\n",
    "app.launch()"
   ]
  }
 ],
 "metadata": {
  "kernelspec": {
   "display_name": "VirtualENV",
   "language": "python",
   "name": "python3"
  },
  "language_info": {
   "codemirror_mode": {
    "name": "ipython",
    "version": 3
   },
   "file_extension": ".py",
   "mimetype": "text/x-python",
   "name": "python",
   "nbconvert_exporter": "python",
   "pygments_lexer": "ipython3",
   "version": "3.9.13"
  }
 },
 "nbformat": 4,
 "nbformat_minor": 2
}
